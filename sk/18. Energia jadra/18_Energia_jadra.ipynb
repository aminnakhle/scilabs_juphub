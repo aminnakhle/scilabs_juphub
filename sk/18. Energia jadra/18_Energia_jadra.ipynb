{
  "cells": [
    {
      "cell_type": "markdown",
      "source": [
        "![Picture1.png](data:image/png;base64,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)"
      ],
      "metadata": {
        "id": "IcA_TRB_DEXk"
      }
    },
    {
      "cell_type": "code",
      "execution_count": null,
      "metadata": {
        "id": "rZ54jpb44N7k"
      },
      "outputs": [],
      "source": [
        "import numpy as np\n",
        "import pandas as pd\n",
        "import matplotlib.pyplot as plt"
      ]
    },
    {
      "cell_type": "markdown",
      "metadata": {
        "id": "UORplUnI4N7m"
      },
      "source": [
        "# Jadrová energia - koľko energie je v 1 kilograme uránu?"
      ]
    },
    {
      "cell_type": "markdown",
      "metadata": {
        "id": "8vrt9r-l4N7o"
      },
      "source": [
        "V roku 2019 sa na Slovensku spotrebovalo 30 103 GWh elektrickej energie. Koľko kilogramov uránu $^{235}\\text{U}$ ako jadrového paliva by bolo potrebných na vypredajkovanie rovnakého pnožstva energie? To zistíme v tomto cvičení!"
      ]
    },
    {
      "cell_type": "markdown",
      "metadata": {
        "id": "JbLw_GQL4N7p"
      },
      "source": [
        "Prvú si prevedieme GWh na Jouli, s ktorými bežne pracujeme. Jedna Wh zodpovedá práci stroja s príkonom 1 watt po dobu 1 hodiny. To znamená, že $1 \\text{ Wh} = 3600 \\text{ J}$. Po použití tohto prevodného vzťahu môžeme spotrebu elektrickej energie vyjadriť v $J$.\n",
        "\n",
        "\\begin{equation}\n",
        " E = 30103 \\text{ GWh} = 108370.8 \\text{ TJ} = 108.3708 \\cdot 10^{15} \\text{J}\n",
        "\\end{equation}\n",
        "\n",
        "V nasledujúcich výpočtoch budeme predpokladať 100% účinnosť, pretože nám ide len o odhad."
      ]
    },
    {
      "cell_type": "markdown",
      "metadata": {
        "id": "WG4tYIkC4N7p"
      },
      "source": [
        "Urán $^{235} \\text{U}$ sa pri jadrovom štiepení premení na Barium $^{141}\\text{Ba}$, Kryptón $^{92}\\text{Kr}$ a 2 voľné neutróny. Koľko energie sa pri tejto premene uvoľní? S tým nám pomôže snáď najslávnejšie rovnice fyziky\n",
        "\n",
        "\\begin{equation*}\n",
        " E = mc^2,\n",
        "\\end{equation*}\n",
        "\n",
        "ktorá dáva do rovnosti hmotnosť a energiu. Pozrime sa na hmotnosti jednotlivých častíc a prvkov vystupujúcich v tejto premene. Hmotnosť vyjadrujeme v atómových hmotnostných jednotkách $m_u \\approx 1.66 \\cdot 10^{-27}$ kg.\n",
        "\n",
        "\\begin{equation*}\n",
        " ^{235}\\text{U + } \\text{n = } ^{141}\\text{Ba + } ^{92}\\text{Kr} + \\text{3n}\n",
        "\\end{equation*}\n",
        "\n",
        "\\begin{gather*}\n",
        " ^{235}\\text{U = } 235.043928 \\text{ } m_u, \\\\\n",
        " ^{141}\\text{Ba = } 140.914411 \\text{ } m_u, \\\\\n",
        " ^{92}\\text{Kr = } 91.926156 \\text{ } m_u, \\\\\n",
        " \\text{n = } 1.008664 \\text{ } m_u.\n",
        "\\end{gather*}\n",
        "\n",
        "Keď si hmotnosti na oboch stranách rovnice spočítame, tak zistíme, že hmotnosti nie sú rovnaké. To je dané tým, že nukleóny (protóny a neutróny) \"odovzdajú\" časť svojej hmotnosti do väzobnej energie, ktorá nuklenoy drží pohromade."
      ]
    },
    {
      "cell_type": "markdown",
      "metadata": {
        "id": "ydwRZ7pu4N7q"
      },
      "source": [
        "Zdroje\n",
        "\n",
        "https://faktaoklimatu.cz/infografiky/elektrina-sr \\\n",
        "https://en.wikipedia.org/wiki/Nuclear_fission"
      ]
    },
    {
      "cell_type": "code",
      "execution_count": null,
      "metadata": {
        "id": "Q7UVeSm54N7q"
      },
      "outputs": [],
      "source": [
        "m_U_235 = 235.043928        # [m_u]\n",
        "m_Ba_141 = 140.914411       # [m_u]\n",
        "m_kr_92 = 91.926156         # [m_u]\n",
        "m_n = 1.008664              # [m_u]\n",
        "m_u = 1.66e-27              # [kg]"
      ]
    },
    {
      "cell_type": "code",
      "execution_count": null,
      "metadata": {
        "colab": {
          "base_uri": "https://localhost:8080/"
        },
        "id": "XI49r3nb4N7r",
        "outputId": "82188cb2-382d-4986-ea2b-0e7fe0a3103f"
      },
      "outputs": [
        {
          "output_type": "stream",
          "name": "stdout",
          "text": [
            "ľavá strana rovnice má hmostnosť 236.05 m_u a pravá strana rovnice má hmotnosť 235.87 m_u\n"
          ]
        }
      ],
      "source": [
        "m_lavo = m_U_235+m_n\n",
        "m_pravo = m_Ba_141 + m_kr_92 + 3*m_n\n",
        "\n",
        "print(f\"ľavá strana rovnice má hmostnosť {m_lavo:,.2f} m_u a pravá strana rovnice má hmotnosť {m_pravo:,.2f} m_u\")"
      ]
    },
    {
      "cell_type": "markdown",
      "metadata": {
        "id": "bVVZMpI84N7r"
      },
      "source": [
        "Pretože sa hmotnosť rovná energiu podľa rovnice $E = mc^2$ a energia sa zachováva, tak sa úbytok hmotnosti po premene jadier musel premeniť na energiu\n",
        "\n",
        "\\begin{equation*}\n",
        "    E = \\Delta m c^2 = (m_{lava}-m_{prava})c^2\n",
        "\\end{equation*}"
      ]
    },
    {
      "cell_type": "code",
      "execution_count": null,
      "metadata": {
        "colab": {
          "base_uri": "https://localhost:8080/"
        },
        "id": "xl8ZcFeN4N7s",
        "outputId": "d4f6ab76-8bf7-47e9-dfbf-2a590951563d"
      },
      "outputs": [
        {
          "output_type": "stream",
          "name": "stdout",
          "text": [
            "Energia získaná touto reakciou E = 27.75 pJ = 173.25 MeV\n"
          ]
        }
      ],
      "source": [
        "c = 299792458\n",
        "\n",
        "E = (m_lavo-m_pravo)*m_u*c**2\n",
        "print(f\"Energia získaná touto reakciou E = {E*1e12:,.2f} pJ = {E/1.602e-19*1e-6:,.2f} MeV\")"
      ]
    },
    {
      "cell_type": "markdown",
      "metadata": {
        "id": "FZZXtdxr4N7s"
      },
      "source": [
        "Z jednej premeny izotopu Uránu $^{235}\\text{U}$ získame 173.25 MeV energie. Koľko získame z jedného kilogramu Uránu $^{235}\\text{U}$? Jednoducho vidíme jeden koligram hmotnosťou jedného izotomu uránu a tým získame počet atómov v jednom kilograme. Týmto číslom potom vynásobíme energiu získanú z jednej premeny a získame energiu získanú štiepením z jedného kilogramu uránu."
      ]
    },
    {
      "cell_type": "code",
      "execution_count": null,
      "metadata": {
        "id": "5telB2au4N7t"
      },
      "outputs": [],
      "source": [
        "N_U = 1/(m_U_235*m_u)\n",
        "E_1_kg = N_U * E"
      ]
    },
    {
      "cell_type": "code",
      "execution_count": null,
      "metadata": {
        "colab": {
          "base_uri": "https://localhost:8080/"
        },
        "id": "jlS4NO4n4N7t",
        "outputId": "1a4a56bc-cdb6-487f-bbb1-1de84cf2e6fa"
      },
      "outputs": [
        {
          "output_type": "stream",
          "name": "stdout",
          "text": [
            "Na pokrytie ročnej spotreby energie na Slovensku by bolo treba (za veľmi idealizovaných podmienok) 15,234.56 tun U235\n"
          ]
        }
      ],
      "source": [
        "E_sk = 1083708e15 # Ročná spotreba elektrickej energie na Slovensku v jouloch\n",
        "\n",
        "print(f\"Na pokrytie ročnej spotreby energie na Slovensku by bolo treba (za veľmi idealizovaných podmienok) {E_sk/E_1_kg*1e-3:,.2f} tun U235\")"
      ]
    },
    {
      "cell_type": "markdown",
      "metadata": {
        "id": "gpNeZKkD4N7t"
      },
      "source": [
        "15000 ton Uránu sa môže zdať veľa, ale pri hustote cca 20 ton/m 3 sa jedná približne o objem 750 m 3 čo je štvrtina objemu olympijského bazéna."
      ]
    }
  ],
  "metadata": {
    "kernelspec": {
      "display_name": "general",
      "language": "python",
      "name": "python3"
    },
    "language_info": {
      "codemirror_mode": {
        "name": "ipython",
        "version": 3
      },
      "file_extension": ".py",
      "mimetype": "text/x-python",
      "name": "python",
      "nbconvert_exporter": "python",
      "pygments_lexer": "ipython3",
      "version": "3.12.4"
    },
    "colab": {
      "provenance": []
    }
  },
  "nbformat": 4,
  "nbformat_minor": 0
}