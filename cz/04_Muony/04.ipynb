{
 "cells": [
  {
   "cell_type": "code",
   "execution_count": 4,
   "metadata": {},
   "outputs": [],
   "source": [
    "import numpy as np\n",
    "import pandas as pd\n",
    "import matplotlib.pyplot as plt"
   ]
  },
  {
   "cell_type": "markdown",
   "metadata": {},
   "source": [
    "# Muony - proč je můžeme detekovat na povrchu Země?"
   ]
  },
  {
   "cell_type": "markdown",
   "metadata": {},
   "source": [
    "Muon je nestabilní subaotmání částice s poločasem rozpadu $\\tau = 2.2$ $\\mu \\text{s}$. Jedním ze zdrojů muonů je kosmické záření které je vytváří ve vyšších vrtvách armosféry. Po svém vzniku ve vyšší atmosféře má rychlost která může dosahovat až 99,97% rychlosti světla ($v_\\mu = 0.9997 c$). Pokud by muony touto rychlostí letěli směrem k povrchu Země, dorazila by alespoň polovina k povrchu Země podle klasické fyziky? A co nám k tomu řekne speciální teorie relativity?"
   ]
  },
  {
   "cell_type": "markdown",
   "metadata": {},
   "source": [
    "Pokud mouny mají rychlost $v = 0.9997 c$ (kde $c = 299 792 458$ m/s) z výšky $v = 10$ km a poločasem rozpadu $\\tau = 2.2$ $\\mu\\text{s}$ kam dorazí polovina do jaké vzdálenosti dorazí alespoň polovina z muonů? To nám řekne vzoreček z klasické mechaniky\n",
    "\n",
    "\\begin{equation*}\n",
    "    d = 1/2 \\cdot \\tau \\cdot v = 1/2 \\cdot \\tau \\cdot 0.9997 \\cdot c\n",
    "\\end{equation*}"
   ]
  },
  {
   "cell_type": "code",
   "execution_count": 5,
   "metadata": {},
   "outputs": [
    {
     "name": "stdout",
     "output_type": "stream",
     "text": [
      "Vzdálenost kterou urazí polovina muonů (říkejme jí \"polodráha\" rozpadu) je 329.67 m\n",
      "Munony urazily 30.33 než dorazily k povrchu Země. Tím pádem tento let \"přežilo\" jen 0.000000074 %\n"
     ]
    }
   ],
   "source": [
    "# Proměnné:\n",
    "c = 299792458\n",
    "v = 0.9997*c\n",
    "tau = 2.2e-6\n",
    "\n",
    "d = 1/2*tau*v       # Vzdálenost kterou urazí polovina muonů (tzv. polodráha - není to zavedený pojem, ale pojem, který nám má usnadnit práci)\n",
    "\n",
    "print(f\"Vzdálenost kterou urazí polovina muonů (říkejme jí \\\"polodráha\\\" rozpadu) je {d:,.2f} m\")\n",
    "\n",
    "pocet_polodrah = 10000/d\n",
    "\n",
    "print(f\"Munony urazily {pocet_polodrah:,.2f} než dorazily k povrchu Země. Tím pádem tento let \\\"přežilo\\\" jen {100*0.5**pocet_polodrah:,.9f} %\")"
   ]
  },
  {
   "cell_type": "markdown",
   "metadata": {},
   "source": [
    "Vypočtli jsme \"polodráhu\" rozpadu (dráhu, kterou muony s rychlostí $v$ urazí, a po které se jich polovina rozpadne). Celková dráha, kterou je nutno překonat je $h = 10$ km. To znamená že muony urazí $\\frac{10000}{329.67}$ polodráh rozpadu a k Zemi jich dorazí jen malý zlomek. To se ale ve skutečnosti neděje a k povrvhu Země by jich dorazilo mnohem více. Proč? Odpověď na tuto otázku nám poskytnou důsledky speciální teorie relativity - dilatace času a kontrakce délek. \n",
    "\n",
    "Dilatace času a kontrakce délek jsou jevy, které se projevují u objektů pohybujících vysokou rychlostí (řádově srovnatelnou s rychlostí světla). Zjednodušeně můžeme dilataci času popsat takto - hodinky které by muony měli u sebe budou tikat pomaleji než ty, které budeme mít my na Zemi. A to přesně $\\gamma$-krát. \n",
    "\n",
    "\\begin{equation*}\n",
    "    \\gamma = \\frac{1}{\\sqrt{1-\\frac{v^2}{c^2}}}\n",
    "\\end{equation*}\n",
    "\n",
    "Pro nás to znamená to, že se poločas rozpadu $\\tau$ pro pozorovatele na Zemi prodlouží podle vzorce pro dilataci času\n",
    "\n",
    "\\begin{equation*}\n",
    "    \\tau' = \\gamma \\tau = \\frac{1}{\\sqrt{1-\\frac{v^2}{c^2}}} \\cdot \\tau,\n",
    "\\end{equation*}\n",
    "kde $\\tau'$ je poločas rozpadu muonů pro pozorovatele spojené se Zemí. \n",
    "\n",
    "\n",
    "Kontrakce delek se v tomto případě naopak projeví jako zkrácení vzdálenosti kterou muony urazí. Vzorec pro kontrakci délek je\n",
    "\n",
    "\\begin{equation*}\n",
    "    l' = \\frac{l}{\\gamma} = \\sqrt{1-\\frac{v^2}{c^2}} \\cdot l,\n",
    "\\end{equation*}\n",
    "kde $l$ je výška ve které se muony vytvořili pro pozorovatele na Zemi a $l'$ je výška jak by ji změřili muony samotné.\n",
    "\n",
    "Jak kontrakce délek, tak i dilatace času jsou dva různé pohledy na tento jev, které jsou ekvivalentí. A to si nyní ukážeme."
   ]
  },
  {
   "cell_type": "code",
   "execution_count": 6,
   "metadata": {},
   "outputs": [],
   "source": [
    "#definujeme si funkci gamma\n",
    "\n",
    "def gamma(v):\n",
    "    return(np.sqrt(1/(1-(v/c)**2)))"
   ]
  },
  {
   "cell_type": "markdown",
   "metadata": {},
   "source": [
    "# Člen $\\gamma$\n",
    "\n",
    "Člen gamma se objevuje v jak vzorci pro časovou dilataci, tak pro kontrakci délek a záleží jen na rychlosti. Zkusime si jej zobrazit v grafu!"
   ]
  },
  {
   "cell_type": "code",
   "execution_count": 14,
   "metadata": {},
   "outputs": [
    {
     "data": {
      "text/plain": [
       "<matplotlib.legend.Legend at 0x7fa40fcfdfd0>"
      ]
     },
     "execution_count": 14,
     "metadata": {},
     "output_type": "execute_result"
    },
    {
     "data": {
      "image/png": "[encoded data removed]",
      "text/plain": [
       "<Figure size 640x480 with 1 Axes>"
      ]
     },
     "metadata": {},
     "output_type": "display_data"
    }
   ],
   "source": [
    "v = np.linspace(0,0.99,1000)                            # Rozsah rychlostí v grafui (v násobích rychlosti světla)\n",
    "\n",
    "plt.plot(v,gamma(v*c), label = r\"$\\gamma$\")\n",
    "plt.axhline(1, color = \"gray\", linestyle = \"--\")\n",
    "\n",
    "plt.xlabel(\"$v/c$\")\n",
    "plt.ylabel(r\"$\\gamma$\")\n",
    "\n",
    "plt.legend()"
   ]
  },
  {
   "cell_type": "markdown",
   "metadata": {},
   "source": [
    "Jak můžeme vidět z grafu, tak se kontrakce délek nebo dilatace času výrazně projeví jen u objektů s rychlostí $v > 0.1 \\cdot c$ (pro objekty s rychlostí $v = 0.1 \\cdot c$ platí $\\gamma \\approx 1.005$). Proto tyto efekty v každoděnním životě nepozorujeme. Pojdmě nyní spočítat poločas rozpadu našeho muonu pro pozorovatele na Zemi. "
   ]
  },
  {
   "cell_type": "markdown",
   "metadata": {},
   "source": [
    "## Dilatace času"
   ]
  },
  {
   "cell_type": "code",
   "execution_count": 8,
   "metadata": {},
   "outputs": [],
   "source": [
    "# Definujeme si funkci pro výpočet dilatace času\n",
    "\n",
    "def dilatace_casu(u,t):\n",
    "    return(gamma(u)*t)"
   ]
  },
  {
   "cell_type": "code",
   "execution_count": 9,
   "metadata": {},
   "outputs": [
    {
     "name": "stdout",
     "output_type": "stream",
     "text": [
      "Poločas rozpadu pro pozorovatele na Zemi je tau' = 0.0000898 s = 89.82 mus\n"
     ]
    }
   ],
   "source": [
    "v = 0.9997*c\n",
    "tau_zeme = dilatace_casu(v,tau)\n",
    "\n",
    "print(f\"Poločas rozpadu pro pozorovatele na Zemi je tau' = {tau_zeme:,.7f} s = {1e6*tau_zeme:,.2f} mus\")"
   ]
  },
  {
   "cell_type": "markdown",
   "metadata": {},
   "source": [
    "Poločas rozpadu našich muonů je výrazně vyšší pro pozorovatele na Zemi - $\\tau'$. Podívejme se jakou vzdálenost urazí behem doby $\\tau'$."
   ]
  },
  {
   "cell_type": "code",
   "execution_count": 10,
   "metadata": {},
   "outputs": [
    {
     "name": "stdout",
     "output_type": "stream",
     "text": [
      "Polodaha rozpadu po započtení dilatace času je 13,459.84 m, což znamená, že víc jak polovina muonů dorazí až k povrchu Země!\n"
     ]
    }
   ],
   "source": [
    "d = 1/2*tau_zeme*v\n",
    "\n",
    "print(f\"Polodaha rozpadu po započtení dilatace času je {d:,.2f} m, což znamená, že víc jak polovina muonů dorazí až k povrchu Země!\")"
   ]
  },
  {
   "cell_type": "markdown",
   "metadata": {},
   "source": [
    "## Kontrakce délek"
   ]
  },
  {
   "cell_type": "code",
   "execution_count": 11,
   "metadata": {},
   "outputs": [],
   "source": [
    "# Definujeme funkci pro kontrakci délek\n",
    "\n",
    "def kontrakce_delek(u,l):\n",
    "    return(l/gamma(u))"
   ]
  },
  {
   "cell_type": "code",
   "execution_count": 15,
   "metadata": {},
   "outputs": [
    {
     "name": "stdout",
     "output_type": "stream",
     "text": [
      "Vzálenost muonů od povrhcu Země je z pohledu muonů 244.93 m.\n"
     ]
    }
   ],
   "source": [
    "v = 0.9997*c    # Rychlost muonu\n",
    "l = 10000       # Vyska, ve ktere se tvori muony \n",
    "l_muon = kontrakce_delek(v,l)\n",
    "\n",
    "print(f\"Vzálenost muonů od povrhcu Země je z pohledu muonů {l_muon:,.2f} m.\")"
   ]
  },
  {
   "cell_type": "markdown",
   "metadata": {},
   "source": [
    "Z pohledu muonů je vzálenost od míste kde byly stvořeny k povrchu Země jen $244.93 \\text{ m}$. Což je míň než naše dopočtená \"polodráha\" rozpadu, takže opět i tento pohled na věc nám ukazuje, že více než polovina muonů doletí až k povrchu Země!"
   ]
  },
  {
   "cell_type": "markdown",
   "metadata": {},
   "source": [
    "Pomocné zdroje, které byly použity:\n",
    "\n",
    "https://en.wikipedia.org/wiki/Muon \\\n",
    "https://sk.wikipedia.org/wiki/Mi%C3%B3n"
   ]
  }
 ],
 "metadata": {
  "kernelspec": {
   "display_name": "general",
   "language": "python",
   "name": "python3"
  },
  "language_info": {
   "codemirror_mode": {
    "name": "ipython",
    "version": 3
   },
   "file_extension": ".py",
   "mimetype": "text/x-python",
   "name": "python",
   "nbconvert_exporter": "python",
   "pygments_lexer": "ipython3",
   "version": "3.12.4"
  }
 },
 "nbformat": 4,
 "nbformat_minor": 2
}
