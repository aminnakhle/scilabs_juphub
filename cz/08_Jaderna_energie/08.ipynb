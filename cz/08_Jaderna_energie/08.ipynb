{
 "cells": [
  {
   "cell_type": "code",
   "execution_count": 1,
   "metadata": {},
   "outputs": [],
   "source": [
    "import numpy as np\n",
    "import pandas as pd\n",
    "import matplotlib.pyplot as plt"
   ]
  },
  {
   "cell_type": "markdown",
   "metadata": {},
   "source": [
    "# Jaderná energie - kolik energie je v 1 kilogramu uranu?"
   ]
  },
  {
   "cell_type": "markdown",
   "metadata": {},
   "source": [
    "V roce 2019 se na Slovensku spotřebovalo 30 103 GWh elektrické energie. Kolik kilogramů uranu $^{235}\\text{U}$ jako jaderného paliva by bylo potřeba k vyprodujkování stejného pnožství energie? To zjistíme v tomto cvičení!"
   ]
  },
  {
   "cell_type": "markdown",
   "metadata": {},
   "source": [
    "První si převedeme GWh na Jouli, se kterými běžně pracujeme. Jedna Wh odpovídá práci stroje s příkonem 1 watt po dobu 1 hodiny. To znamená, že $1 \\text{ Wh} = 3600 \\text{ J}$. Po použití tohoto převodního vztahu můžeme spotřebu elektrické energie vyjádřit v $J$.\n",
    "\n",
    "\\begin{equation}\n",
    "    E = 30103 \\text{ GWh} = 108370.8 \\text{ TJ} = 108.3708 \\cdot 10^{15} \\text{J}\n",
    "\\end{equation}\n",
    "\n",
    "V následujících výpočtech budeme přepokládat 100% účinnost, protože nám jde jen o odhad. "
   ]
  },
  {
   "cell_type": "markdown",
   "metadata": {},
   "source": [
    "Uran $^{235} \\text{U}$ se při jaderném štěpení přemění na Barium $^{141}\\text{Ba}$, Krypton $^{92}\\text{Kr}$ a 2 volné neutrony. Kolik energie se při této přeměně uvolní? S tím nám pomůže snad nejslavněší rovnice fyziky\n",
    "\n",
    "\\begin{equation*}\n",
    "    E = mc^2,\n",
    "\\end{equation*}\n",
    "\n",
    "která dává do rovnosti hmotnost a energii. Podívejme se na hmotnosti jednotlivých částic a prvků vystupujících v této přeměně. Hmotnost vyjadřujeme v atomových hmotnostnbích jednotkách $m_u \\approx 1.66 \\cdot 10^{-27}$ kg.\n",
    "\n",
    "\\begin{equation*}\n",
    "    ^{235}\\text{U + } \\text{n = } ^{141}\\text{Ba + }  ^{92}\\text{Kr} + \\text{3n}\n",
    "\\end{equation*}\n",
    "\n",
    "\\begin{gather*}\n",
    "    ^{235}\\text{U = } 235.043928 \\text{ } m_u, \\\\\n",
    "    ^{141}\\text{Ba = } 140.914411 \\text{ } m_u, \\\\\n",
    "    ^{92}\\text{Kr = } 91.926156 \\text{ } m_u, \\\\\n",
    "    \\text{n = } 1.008664 \\text{ } m_u.\n",
    "\\end{gather*}\n",
    "\n",
    "Když si hmotnosti na obou stranách rovnice sečteme, tak zjistíme, že hmotnosti nejsou stejné. To je dáno tím, že nukleony (protony a neutrony) \"odevzdají\" část svojí hmotnosti do vazební energie, která nuklenoy drží pohromadě. "
   ]
  },
  {
   "cell_type": "markdown",
   "metadata": {},
   "source": [
    "Zdroje\n",
    "\n",
    "https://faktaoklimatu.cz/infografiky/elektrina-sr \\\n",
    "https://en.wikipedia.org/wiki/Nuclear_fission "
   ]
  },
  {
   "cell_type": "code",
   "execution_count": 2,
   "metadata": {},
   "outputs": [],
   "source": [
    "m_U_235 = 235.043928        # [m_u]\n",
    "m_Ba_141 = 140.914411       # [m_u]\n",
    "m_kr_92 = 91.926156         # [m_u]\n",
    "m_n = 1.008664              # [m_u]\n",
    "m_u = 1.66e-27              # [kg]"
   ]
  },
  {
   "cell_type": "code",
   "execution_count": 3,
   "metadata": {},
   "outputs": [
    {
     "name": "stdout",
     "output_type": "stream",
     "text": [
      "levá strana rovnice má hmostnost 236.05 m_u a pravá strana rovnice má hmotnost 235.87 m_u\n"
     ]
    }
   ],
   "source": [
    "m_levo = m_U_235+m_n\n",
    "m_pravo = m_Ba_141 + m_kr_92 + 3*m_n\n",
    "\n",
    "print(f\"levá strana rovnice má hmostnost {m_levo:,.2f} m_u a pravá strana rovnice má hmotnost {m_pravo:,.2f} m_u\")"
   ]
  },
  {
   "cell_type": "markdown",
   "metadata": {},
   "source": [
    "Protože se hmotnost rovná energii podle rovnice $E = mc^2$ a energie se zachovává, tak se úbytek hmotnosti po přeměně jader musel přeměnit na energii\n",
    "\n",
    "\\begin{equation*}\n",
    "    E = \\Delta m c^2 = (m_{leva}-m_{prava})c^2\n",
    "\\end{equation*}"
   ]
  },
  {
   "cell_type": "code",
   "execution_count": 4,
   "metadata": {},
   "outputs": [
    {
     "name": "stdout",
     "output_type": "stream",
     "text": [
      "Energie získaná touto reakcí E = 27.75 pJ = 173.25 MeV\n"
     ]
    }
   ],
   "source": [
    "c = 299792458\n",
    "\n",
    "E = (m_levo-m_pravo)*m_u*c**2\n",
    "print(f\"Energie získaná touto reakcí E = {E*1e12:,.2f} pJ = {E/1.602e-19*1e-6:,.2f} MeV\")"
   ]
  },
  {
   "cell_type": "markdown",
   "metadata": {},
   "source": [
    "Z jedné přeměny izotopu Uranu $^{235}\\text{U}$ získáme 173.25 MeV energie. Kolik získáme z jednoho kilogramu Uranu $^{235}\\text{U}$? Jenoduše vidělíme jeden koligram hmotností jednoho izotomu uranu a tím získáme počet atomů v jednom kilogramu. Tímto číslem poté vynásobíme energii získanou z jedné přeměny a získáme energii získanou štěpením z jednoho kilogramu uranu. "
   ]
  },
  {
   "cell_type": "code",
   "execution_count": 5,
   "metadata": {},
   "outputs": [],
   "source": [
    "N_U = 1/(m_U_235*m_u)\n",
    "E_1_kg = N_U * E"
   ]
  },
  {
   "cell_type": "code",
   "execution_count": 6,
   "metadata": {},
   "outputs": [
    {
     "name": "stdout",
     "output_type": "stream",
     "text": [
      "Na pokrytí roční spotřeby energie na Slovensku by bylo ptřeba (za velmi idealizovaných podmínek) 15,234.56 tun U235\n"
     ]
    }
   ],
   "source": [
    "E_sk = 1083708e15 # Roční spotřeb elektrické energie na slovensku v joulech\n",
    "\n",
    "print(f\"Na pokrytí roční spotřeby energie na Slovensku by bylo ptřeba (za velmi idealizovaných podmínek) {E_sk/E_1_kg*1e-3:,.2f} tun U235\")"
   ]
  },
  {
   "cell_type": "markdown",
   "metadata": {},
   "source": [
    "15000 tun Uranu se může zdát hodně, ale při hustotě cca 20 tun/m $^3$ se jedná přibližne o objem 750 m $^3$ což je čtvrtina objemu olympijského bazénu."
   ]
  }
 ],
 "metadata": {
  "kernelspec": {
   "display_name": "general",
   "language": "python",
   "name": "python3"
  },
  "language_info": {
   "codemirror_mode": {
    "name": "ipython",
    "version": 3
   },
   "file_extension": ".py",
   "mimetype": "text/x-python",
   "name": "python",
   "nbconvert_exporter": "python",
   "pygments_lexer": "ipython3",
   "version": "3.12.4"
  }
 },
 "nbformat": 4,
 "nbformat_minor": 2
}
