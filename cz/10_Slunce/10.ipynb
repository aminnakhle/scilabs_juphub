{
 "cells": [
  {
   "cell_type": "code",
   "execution_count": 1,
   "metadata": {},
   "outputs": [],
   "source": [
    "import numpy as np\n",
    "import pandas as pd\n",
    "import matplotlib.pyplot as plt"
   ]
  },
  {
   "cell_type": "markdown",
   "metadata": {},
   "source": [
    "# Energie ze Slunce - Stefanův-Boltzmannův zákon "
   ]
  },
  {
   "cell_type": "markdown",
   "metadata": {},
   "source": [
    "Každé těleso, které má nenulovou teplotu (teplotu vyšší než $T = 0\\text{ K}$) vyzařuje elektromagentické záření. V roce 1879 fyzici Ludwig Boltzman a Jožef Stefan publikovali tzv. Stefanův-Boltzmannův zákon, který popisuje závislost celkové intezity záření absolutně černého tělesa na jeho teplotě. Co je to absolutně černé těleso? Absolutně černé těleso je fyzikální ideální těleso (fyzikální model), které pohlcuje veškeré elektromagnetické záření. Kdybychom na něj posvítili zdrojem světla, nic by so od něj neodrazilo. Stefnův-Boltzmannův zákon pro záření absolutně černého tělesa, které je v rovnováze se svým okolím má následující tvar\n",
    "\n",
    "\\begin{equation}\n",
    "    I = \\sigma T^4,\n",
    "\\end{equation}\n",
    "\n",
    "kde $I$ je intenzita záření (podíl celkového vyzářeného výkou tělesa a celkovou plochou tělesa), $\\sigma \\approx 5.670 \\cdot 10^{-8} \\text{ Wm}^{-2}\\text{K}^{-4}$ je Stefanova-Boltzmannova konstanta a $T$.\n",
    "\n",
    "https://sk.wikipedia.org/wiki/Stefanov-Boltzmannov_z%C3%A1kon \\\n",
    "https://sk.wikipedia.org/wiki/Absol%C3%BAtne_%C4%8Dierne_teleso \\\n",
    "https://en.wikipedia.org/wiki/Stefan%E2%80%93Boltzmann_law"
   ]
  },
  {
   "cell_type": "markdown",
   "metadata": {},
   "source": [
    "I když Slunce není ani absolutně černé těleso ani v rovnováze se svým okolím, tak je Stefanův-Boltzmannův zákon poměrně dobrou aproximací pro odhad vyzářené energie Sluncem. Pomocí Stefanova-Boltzmanova zákona se pokusíme určit maximální výkon, který mohou solární panely na Zemi vygenerovat. "
   ]
  },
  {
   "cell_type": "markdown",
   "metadata": {},
   "source": [
    "Teplota povrchu Slunce je $T = 5780 \\text{ K}$. Po dosazení do Stefanova-Boltzmanova zákona můžeme vypočítat intenzitu záření Slunce.   "
   ]
  },
  {
   "cell_type": "code",
   "execution_count": 2,
   "metadata": {},
   "outputs": [
    {
     "name": "stdout",
     "output_type": "stream",
     "text": [
      "Intenzita záření Slunce je 63,284,071.50 W/m^2\n"
     ]
    }
   ],
   "source": [
    "sigma = 5.670e-8    # [W m^-2 T^-4]\n",
    "T_sun = 5780        # [K]\n",
    "\n",
    "I = sigma*T_sun**4\n",
    "\n",
    "print(f\"Intenzita záření Slunce je {I:,.2f} W/m^2\")"
   ]
  },
  {
   "cell_type": "markdown",
   "metadata": {},
   "source": [
    "Jaký je celkový zářivý výkon Slunce? Protože $I$ je intenzita záření (výkon/plocha), tak celkový zářivý výkon $L$ bude roven \n",
    "\n",
    "\\begin{equation}\n",
    "    L = I \\cdot S_{Slunce} = I 4 \\pi R_{Slunce}^2,\n",
    "\\end{equation}\n",
    "\n",
    "kde $S_{Slunce}$ je povrch Sunce a $R_{Slunce}$ je poloměr Slunce."
   ]
  },
  {
   "cell_type": "code",
   "execution_count": 3,
   "metadata": {},
   "outputs": [
    {
     "name": "stdout",
     "output_type": "stream",
     "text": [
      "Celkový zářivý výkon Slunce je 3.849e+26 W\n"
     ]
    }
   ],
   "source": [
    "R_sun = 6.957e8       # [m]\n",
    "\n",
    "L = 4*np.pi*R_sun**2*I\n",
    "\n",
    "print(f\"Celkový zářivý výkon Slunce je {L:,.3e} W\")"
   ]
  },
  {
   "cell_type": "markdown",
   "metadata": {},
   "source": [
    "Dosadíme tento výkon do kontextu. Ceslosvětová spotřeba elektrické energie byla v roce 2021 $E = 25 343 \\text{TWh} \\doteq 91 \\cdot 10^{18}J$. Vypočtěme kolik času by Slunci trvalo vyzářit stejné množství energie."
   ]
  },
  {
   "cell_type": "code",
   "execution_count": 4,
   "metadata": {},
   "outputs": [
    {
     "name": "stdout",
     "output_type": "stream",
     "text": [
      "Slunci by travlo 2.364e-07 s vyzářit stejné množství energie, jako bylo v roce 2021 celosvětově spotřebováno elektrické energie.\n"
     ]
    }
   ],
   "source": [
    "E = 91e18       # [J]\n",
    "t = E/L\n",
    "\n",
    "print(f\"Slunci by travlo {t:,.3e} s vyzářit stejné množství energie, jako bylo v roce 2021 celosvětově spotřebováno elektrické energie.\")"
   ]
  },
  {
   "cell_type": "markdown",
   "metadata": {},
   "source": [
    "Pojďme se konečně podívat na to kolik Sluneční vyzářené energie dokážeme zachytit na jednom metru čtverečním na Zemi. To vypočteme tak, že si celkovou zářící energii Slunce vydělíme plochou sféry o poloměru vzálenosti Země od Slunce\n",
    "\n",
    "\\begin{equation}\n",
    "    I_{Země} = \\frac{L}{S_{Země}} = \\frac{L}{4\\pi R_{Z-S}^2}.\n",
    "\\end{equation}\n",
    "\n",
    "Pojďme to vypočítat!"
   ]
  },
  {
   "cell_type": "code",
   "execution_count": 5,
   "metadata": {},
   "outputs": [
    {
     "name": "stdout",
     "output_type": "stream",
     "text": [
      "Výkon Sluncečního záření na jeden metr čtvereční na Zemi (respektive ve vzdálenosti od Slunce, ve které se nachází Země) je I = 1,368.63 W/m^2\n"
     ]
    }
   ],
   "source": [
    "au = 149597870700 # [m] Astronomická jednotka - vzdálenost Země - Slunce\n",
    "\n",
    "I_zeme = L/(4*np.pi*au**2)\n",
    "\n",
    "print(f\"Výkon Sluncečního záření na jeden metr čtvereční na Zemi (respektive ve vzdálenosti od Slunce, ve které se nachází Země) je I = {I_zeme:,.2f} W/m^2\")"
   ]
  },
  {
   "cell_type": "markdown",
   "metadata": {},
   "source": [
    "Maximální teoretický výkon solárního panelu o ploše $1\\text{ m}^2$ je tedy $I \\approx 1.3 \\text{ kW}$. Reálný výkon solárních panelů (na 1 $\\text{m}^2$) se pohybuje v nižších stovkách wattů, takže náš odhad je více než dobrý."
   ]
  }
 ],
 "metadata": {
  "kernelspec": {
   "display_name": "general",
   "language": "python",
   "name": "python3"
  },
  "language_info": {
   "codemirror_mode": {
    "name": "ipython",
    "version": 3
   },
   "file_extension": ".py",
   "mimetype": "text/x-python",
   "name": "python",
   "nbconvert_exporter": "python",
   "pygments_lexer": "ipython3",
   "version": "3.12.4"
  }
 },
 "nbformat": 4,
 "nbformat_minor": 2
}
